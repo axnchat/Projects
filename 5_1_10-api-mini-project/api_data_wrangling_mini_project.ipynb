{
 "cells": [
  {
   "cell_type": "markdown",
   "metadata": {},
   "source": [
    "This exercise will require you to pull some data from the Qunadl API. Qaundl is currently the most widely used aggregator of financial market data."
   ]
  },
  {
   "cell_type": "markdown",
   "metadata": {},
   "source": [
    "As a first step, you will need to register a free account on the http://www.quandl.com website."
   ]
  },
  {
   "cell_type": "markdown",
   "metadata": {},
   "source": [
    "After you register, you will be provided with a unique API key, that you should store:"
   ]
  },
  {
   "cell_type": "code",
   "execution_count": 9,
   "metadata": {
    "collapsed": true
   },
   "outputs": [],
   "source": [
    "# Store the API key as a string - according to PEP8, constants are always named in all upper case\n",
    "import apikeys\n",
    "API_KEY = apikeys.quandl"
   ]
  },
  {
   "cell_type": "markdown",
   "metadata": {},
   "source": [
    "Qaundl has a large number of data sources, but, unfortunately, most of them require a Premium subscription. Still, there are also a good number of free datasets."
   ]
  },
  {
   "cell_type": "markdown",
   "metadata": {},
   "source": [
    "For this mini project, we will focus on equities data from the Frankfurt Stock Exhange (FSE), which is available for free. We'll try and analyze the stock prices of a company called Carl Zeiss Meditec, which manufactures tools for eye examinations, as well as medical lasers for laser eye surgery: https://www.zeiss.com/meditec/int/home.html. The company is listed under the stock ticker AFX_X."
   ]
  },
  {
   "cell_type": "markdown",
   "metadata": {},
   "source": [
    "You can find the detailed Quandl API instructions here: https://docs.quandl.com/docs/time-series"
   ]
  },
  {
   "cell_type": "markdown",
   "metadata": {},
   "source": [
    "While there is a dedicated Python package for connecting to the Quandl API, we would prefer that you use the *requests* package, which can be easily downloaded using *pip* or *conda*. You can find the documentation for the package here: http://docs.python-requests.org/en/master/ "
   ]
  },
  {
   "cell_type": "markdown",
   "metadata": {},
   "source": [
    "Finally, apart from the *requests* package, you are encouraged to not use any third party Python packages, such as *pandas*, and instead focus on what's available in the Python Standard Library (the *collections* module might come in handy: https://pymotw.com/3/collections/).\n",
    "Also, since you won't have access to DataFrames, you are encouraged to us Python's native data structures - preferably dictionaries, though some questions can also be answered using lists.\n",
    "You can read more on these data structures here: https://docs.python.org/3/tutorial/datastructures.html"
   ]
  },
  {
   "cell_type": "markdown",
   "metadata": {},
   "source": [
    "Keep in mind that the JSON responses you will be getting from the API map almost one-to-one to Python's dictionaries. Unfortunately, they can be very nested, so make sure you read up on indexing dictionaries in the documentation provided above."
   ]
  },
  {
   "cell_type": "code",
   "execution_count": 10,
   "metadata": {
    "collapsed": true
   },
   "outputs": [],
   "source": [
    "# First, import the relevant modules\n",
    "import requests\n",
    "import json\n",
    "import logging\n",
    "\n"
   ]
  },
  {
   "cell_type": "code",
   "execution_count": 22,
   "metadata": {},
   "outputs": [
    {
     "name": "stdout",
     "output_type": "stream",
     "text": [
      "{'dataset_data': {'limit': None, 'transform': None, 'column_index': None, 'column_names': ['Date', 'Open', 'High', 'Low', 'Close', 'Change', 'Traded Volume', 'Turnover', 'Last Price of the Day', 'Daily Traded Units', 'Daily Turnover'], 'start_date': '2017-01-01', 'end_date': '2017-01-02', 'frequency': 'daily', 'data': [['2017-01-02', 34.99, 35.94, 34.99, 35.8, None, 44700.0, 1590561.0, None, None, None]], 'collapse': None, 'order': None}}\n"
     ]
    }
   ],
   "source": [
    "# Now, call the Quandl API and pull out a small sample of the data (only one day) to get a glimpse\n",
    "# into the JSON structure that will be returned\n",
    "logging.basicConfig(level=logging.DEBUG, filename='miniProj.log', filemode='w', format='%(name)s - %(levelname)s - %(message)s')\n",
    "\n",
    "url_u = \"https://www.quandl.com/api/v3/datasets/FSE/AFX_X/data.json?start_date=2017-01-01&end_date=2017-01-02&api_key=\"+API_KEY\n",
    "r = requests.get(url_u)\n",
    "print(r.json())\n",
    "\n"
   ]
  },
  {
   "cell_type": "code",
   "execution_count": 5,
   "metadata": {
    "collapsed": true
   },
   "outputs": [],
   "source": [
    "# Inspect the JSON structure of the object you created, and take note of how nested it is,\n",
    "# as well as the overall structure\n",
    "logging.debug(r.json)"
   ]
  },
  {
   "cell_type": "markdown",
   "metadata": {},
   "source": [
    "These are your tasks for this mini project:\n",
    "\n",
    "1. Collect data from the Franfurt Stock Exchange, for the ticker AFX_X, for the whole year 2017 (keep in mind that the date format is YYYY-MM-DD).\n",
    "2. Convert the returned JSON object into a Python dictionary.\n",
    "3. Calculate what the highest and lowest opening prices were for the stock in this period.\n",
    "4. What was the largest change in any one day (based on High and Low price)?\n",
    "5. What was the largest change between any two days (based on Closing Price)?\n",
    "6. What was the average daily trading volume during this year?\n",
    "7. (Optional) What was the median trading volume during this year. (Note: you may need to implement your own function for calculating the median.)"
   ]
  },
  {
   "cell_type": "code",
   "execution_count": 21,
   "metadata": {},
   "outputs": [
    {
     "name": "stdout",
     "output_type": "stream",
     "text": [
      "minOpen:34.0\n",
      "maxOpen:53.11\n",
      "maxdayChange:2.8100000000000023\n",
      "maxcloseChange:1.7199999999999989\n",
      "dateMaxCloseChange:2017-05-10\n",
      "avgTradVol:89124.33725490196\n",
      "totalDays:255\n",
      "Median tradedVol:11049198.0\n"
     ]
    }
   ],
   "source": [
    "url_u = \"https://www.quandl.com/api/v3/datasets/FSE/AFX_X/data.json?start_date=2017-01-01&end_date=2017-12-31&api_key=\"+API_KEY\n",
    "r = requests.get(url_u)\n",
    "\n",
    "col_names = r.json()['dataset_data']['column_names']\n",
    "logging.debug(col_names)\n",
    "\n",
    "dict_test=dict(r.json()['dataset_data'])\n",
    "\n",
    "type(dict_test['data'])\n",
    "\n",
    "#initialization\n",
    "minOpen = float(dict_test['data'][0][1])\n",
    "maxOpen = float(dict_test['data'][0][1])\n",
    "maxdayChange = 0\n",
    "daychange = 0\n",
    "closeChange = dict_test['data'][0][4] - dict_test['data'][1][4]\n",
    "maxcloseChange = closeChange\n",
    "lastClose = dict_test['data'][0][4]\n",
    "date = dict_test['data'][0][0]\n",
    "tradedVol = 0\n",
    "count = 0\n",
    "tradedVolList = []  #empty list\n",
    "\n",
    "\n",
    "#loop to iterate through each date data\n",
    "for x in dict_test['data']:\n",
    "    logging.debug(x)\n",
    "    #Minimum Open and Max Open\n",
    "    if type(x[1]) is float:\n",
    "        if(x[1] < float(minOpen)):\n",
    "            minOpen = x[1]\n",
    "        elif(x[1] > maxOpen):\n",
    "            maxOpen = x[1]\n",
    "    #Day Change Calculations\n",
    "    if (type(x[2]) is float) and (type(x[3]) is float) :\n",
    "        daychange = x[2] - x[3]\n",
    "        logging.debug(\"change:\"+str(daychange))\n",
    "    #Max Change in a Day\n",
    "    if(daychange > maxdayChange):\n",
    "        maxdayChange = daychange\n",
    "    #Change between Close vals in two days\n",
    "    if(type(x[4]) is float):\n",
    "        closeChange = lastClose - x[4]\n",
    "        lastClose = x[4]\n",
    "    #Max Close change in two days\n",
    "    if(closeChange > maxcloseChange):\n",
    "        date = x[0]\n",
    "        maxcloseChange = closeChange\n",
    "    #TradedVol avg and list creation for median calcs\n",
    "    if (type(x[6]) is float) :\n",
    "        tradedVol = tradedVol + x[6]\n",
    "        tradedVolList = tradedVolList + [tradedVol]\n",
    "    count = count + 1\n",
    "\n",
    "    \n",
    "#calculate median\n",
    "def median(listofelems):\n",
    "    sort = sorted(listofelems)\n",
    "    num = len(listofelems)\n",
    "    return (sum(sort[int(num/2)-1:int(num/2)+1])/2.0, sort[int(num/2)])[num % 2] if num else None\n",
    "    \n",
    "    \n",
    "print(\"minOpen:\"+str(minOpen))\n",
    "print(\"maxOpen:\"+str(maxOpen))\n",
    "print(\"maxdayChange:\"+str(maxdayChange))\n",
    "print(\"maxcloseChange:\"+str(maxcloseChange))\n",
    "print(\"dateMaxCloseChange:\"+ str(date))\n",
    "print(\"avgTradVol:\" + str(tradedVol/count))\n",
    "print(\"totalDays:\" + str(count))\n",
    "print(\"Median tradedVol:\" + str(median(tradedVolList)))"
   ]
  }
 ],
 "metadata": {
  "kernelspec": {
   "display_name": "Python 3",
   "language": "python",
   "name": "python3"
  },
  "language_info": {
   "codemirror_mode": {
    "name": "ipython",
    "version": 3
   },
   "file_extension": ".py",
   "mimetype": "text/x-python",
   "name": "python",
   "nbconvert_exporter": "python",
   "pygments_lexer": "ipython3",
   "version": "3.7.3"
  }
 },
 "nbformat": 4,
 "nbformat_minor": 2
}
